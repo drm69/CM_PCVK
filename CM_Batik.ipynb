{
  "nbformat": 4,
  "nbformat_minor": 0,
  "metadata": {
    "colab": {
      "provenance": [],
      "authorship_tag": "ABX9TyNDlIb+aE92Jv6qVxQ2Epnd",
      "include_colab_link": true
    },
    "kernelspec": {
      "name": "python3",
      "display_name": "Python 3"
    },
    "language_info": {
      "name": "python"
    }
  },
  "cells": [
    {
      "cell_type": "markdown",
      "metadata": {
        "id": "view-in-github",
        "colab_type": "text"
      },
      "source": [
        "<a href=\"https://colab.research.google.com/github/drm69/CM_PCVK/blob/main/CM_Batik.ipynb\" target=\"_parent\"><img src=\"https://colab.research.google.com/assets/colab-badge.svg\" alt=\"Open In Colab\"/></a>"
      ]
    },
    {
      "cell_type": "markdown",
      "source": [
        "#Bagian A – Observasi & Eksperimen"
      ],
      "metadata": {
        "id": "AhOZoyV675Nz"
      }
    },
    {
      "cell_type": "markdown",
      "source": [
        "###1. Tampilkan histogram tiap citra dan analisis distribusi intensitasnya."
      ],
      "metadata": {
        "id": "ki2MpfcV77xP"
      }
    },
    {
      "cell_type": "code",
      "source": [],
      "metadata": {
        "id": "qNX7blmz9CBc"
      },
      "execution_count": null,
      "outputs": []
    },
    {
      "cell_type": "markdown",
      "source": [
        "###2. Terapkan transformasi brightness dan contrast (linear/log brightness).\n",
        "a. Tentukan nilai b (brightness) dan a (contrast) yang sesuai agar data\n",
        "tampak natural seperti data asli."
      ],
      "metadata": {
        "id": "273Q8pdr8KGD"
      }
    },
    {
      "cell_type": "code",
      "source": [],
      "metadata": {
        "id": "FUVsJ3hD9Ce6"
      },
      "execution_count": null,
      "outputs": []
    },
    {
      "cell_type": "markdown",
      "source": [
        "###3. Lakukan histogram equalization untuk memperbaiki sebaran kontras.\n",
        "a. Bandingkan hasil visual dan histogram sebelum–sesudah.\n",
        "\n",
        "b. Perhatikan apakah motif dan detail kain lebih terlihat jelas.\n",
        "\n",
        "c. Pastikan tekstur daun atau permukaan sayur menjadi lebih terlihat."
      ],
      "metadata": {
        "id": "8jh6vl3P8NOs"
      }
    },
    {
      "cell_type": "code",
      "source": [],
      "metadata": {
        "id": "oiLwpWmq9DKM"
      },
      "execution_count": null,
      "outputs": []
    },
    {
      "cell_type": "markdown",
      "source": [
        "###4. Terapkan filter spasial:\n",
        "a. Low-pass filter untuk menghaluskan noise atau tekstur berlebih pada\n",
        "permukaan kain, untuk menghaluskan noise pada permukaan atau\n",
        "bayangan di sekitar sayur.\n",
        "\n",
        "b. High-pass atau Laplacian filter untuk menajamkan tepi motif batik atau untuk menajamkan tepi daun, batang, atau detail tekstur pada sayur."
      ],
      "metadata": {
        "id": "swiSRuay8t2U"
      }
    },
    {
      "cell_type": "code",
      "source": [],
      "metadata": {
        "id": "tp_XC-I89Du8"
      },
      "execution_count": null,
      "outputs": []
    },
    {
      "cell_type": "markdown",
      "source": [
        "###5. Implementasikan Floyd–Steinberg Dithering untuk menurunkan kedalaman warna sesuai data anda (bit-depth 4–6 bit), lalu analisis bagaimana efeknya terhadap kehalusan gradasi warna motif batik setelah reduksi warna dilakukan atau terhadap detail warna alami sayur\n"
      ],
      "metadata": {
        "id": "2CGCcEzt86uq"
      }
    },
    {
      "cell_type": "code",
      "source": [],
      "metadata": {
        "id": "GLSMA5Gb9EMo"
      },
      "execution_count": null,
      "outputs": []
    }
  ]
}